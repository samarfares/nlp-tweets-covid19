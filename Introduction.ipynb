{
 "cells": [
  {
   "cell_type": "markdown",
   "metadata": {},
   "source": [
    "## Introduction\n",
    "\n",
    "Inspired by Alice Zhao Natural Language Processing in Python Tutorial I am trying to use NLP techniques to interpret text data. \n",
    "\n",
    "\n",
    "### The workflow\n",
    "1. The question : How people reacted to pandemic through months in twitter ? \n",
    "2. exploratory data analysis \n",
    "3. apply NLP techniques \n",
    "4. share insights"
   ]
  }
 ],
 "metadata": {
  "kernelspec": {
   "display_name": "Python 3",
   "language": "python",
   "name": "python3"
  },
  "language_info": {
   "codemirror_mode": {
    "name": "ipython",
    "version": 3
   },
   "file_extension": ".py",
   "mimetype": "text/x-python",
   "name": "python",
   "nbconvert_exporter": "python",
   "pygments_lexer": "ipython3",
   "version": "3.7.6"
  }
 },
 "nbformat": 4,
 "nbformat_minor": 4
}
